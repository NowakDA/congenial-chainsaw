{
 "cells": [
  {
   "cell_type": "code",
   "execution_count": 1,
   "id": "e2fb9b04",
   "metadata": {
    "ExecuteTime": {
     "end_time": "2022-10-03T07:52:38.152334Z",
     "start_time": "2022-10-03T07:52:19.538299Z"
    }
   },
   "outputs": [],
   "source": [
    "import matplotlib.pyplot as plt\n",
    "import numpy as np\n",
    "from sklearn.datasets import load_digits\n",
    "from sklearn.linear_model import LogisticRegression\n",
    "from sklearn.metrics import classification_report, confusion_matrix, ConfusionMatrixDisplay\n",
    "from sklearn.model_selection import train_test_split\n",
    "from sklearn.preprocessing import StandardScaler\n",
    "from sklearn.preprocessing import label_binarize"
   ]
  },
  {
   "cell_type": "code",
   "execution_count": 2,
   "id": "e401b984",
   "metadata": {
    "ExecuteTime": {
     "end_time": "2022-10-03T07:52:38.172334Z",
     "start_time": "2022-10-03T07:52:38.152334Z"
    }
   },
   "outputs": [],
   "source": [
    "%matplotlib inline"
   ]
  },
  {
   "cell_type": "code",
   "execution_count": 3,
   "id": "1cc66a1e",
   "metadata": {
    "ExecuteTime": {
     "end_time": "2022-10-03T07:52:38.542335Z",
     "start_time": "2022-10-03T07:52:38.172334Z"
    }
   },
   "outputs": [
    {
     "data": {
      "text/plain": [
       "(1797, 64)"
      ]
     },
     "execution_count": 3,
     "metadata": {},
     "output_type": "execute_result"
    }
   ],
   "source": [
    "x, y = load_digits(return_X_y = True)\n",
    "x.shape"
   ]
  },
  {
   "cell_type": "code",
   "execution_count": 4,
   "id": "8b584f83",
   "metadata": {
    "ExecuteTime": {
     "end_time": "2022-10-03T07:52:38.562335Z",
     "start_time": "2022-10-03T07:52:38.542335Z"
    }
   },
   "outputs": [
    {
     "data": {
      "text/plain": [
       "(array([[ 0.,  0.,  5., ...,  0.,  0.,  0.],\n",
       "        [ 0.,  0.,  0., ..., 10.,  0.,  0.],\n",
       "        [ 0.,  0.,  0., ..., 16.,  9.,  0.],\n",
       "        ...,\n",
       "        [ 0.,  0.,  1., ...,  6.,  0.,  0.],\n",
       "        [ 0.,  0.,  2., ..., 12.,  0.,  0.],\n",
       "        [ 0.,  0., 10., ..., 12.,  1.,  0.]]),\n",
       " array([0, 1, 2, ..., 8, 9, 8]))"
      ]
     },
     "execution_count": 4,
     "metadata": {},
     "output_type": "execute_result"
    }
   ],
   "source": [
    "x, y"
   ]
  },
  {
   "cell_type": "code",
   "execution_count": 5,
   "id": "3fed67a4",
   "metadata": {
    "ExecuteTime": {
     "end_time": "2022-10-03T07:52:39.795337Z",
     "start_time": "2022-10-03T07:52:38.562335Z"
    }
   },
   "outputs": [
    {
     "data": {
      "text/plain": [
       "<matplotlib.image.AxesImage at 0xba4f8e0>"
      ]
     },
     "execution_count": 5,
     "metadata": {},
     "output_type": "execute_result"
    },
    {
     "data": {
      "text/plain": [
       "<Figure size 432x288 with 0 Axes>"
      ]
     },
     "metadata": {},
     "output_type": "display_data"
    },
    {
     "data": {
      "image/png": "[encoded data removed]",
      "text/plain": [
       "<Figure size 288x288 with 1 Axes>"
      ]
     },
     "metadata": {
      "needs_background": "light"
     },
     "output_type": "display_data"
    }
   ],
   "source": [
    "digits = load_digits()\n",
    "plt.gray()\n",
    "plt.matshow(digits.images[8])"
   ]
  },
  {
   "cell_type": "code",
   "execution_count": 6,
   "id": "78999179",
   "metadata": {
    "ExecuteTime": {
     "end_time": "2022-10-03T07:52:39.815337Z",
     "start_time": "2022-10-03T07:52:39.795337Z"
    }
   },
   "outputs": [],
   "source": [
    "x_train, x_test, y_train, y_test = train_test_split(x, y, test_size = 0.2, random_state = 0)"
   ]
  },
  {
   "cell_type": "code",
   "execution_count": 7,
   "id": "5b71f6af",
   "metadata": {
    "ExecuteTime": {
     "end_time": "2022-10-03T07:52:39.865337Z",
     "start_time": "2022-10-03T07:52:39.815337Z"
    }
   },
   "outputs": [],
   "source": [
    "# x_train - часть данных х, используемых для построения модели\n",
    "# x_test - часть данных х, используемых для тестирования модели\n",
    "# y_train - часть у, соответствующих x_train\n",
    "# y_test - часть у, соответствующих x_test"
   ]
  },
  {
   "cell_type": "code",
   "execution_count": 8,
   "id": "c94106b1",
   "metadata": {
    "ExecuteTime": {
     "end_time": "2022-10-03T07:52:39.918338Z",
     "start_time": "2022-10-03T07:52:39.865337Z"
    }
   },
   "outputs": [],
   "source": [
    "# Маштабирование (нулевое Мат. ожидание и единичная дисперсия, может улучшить структуру классификации)\n",
    "scaler = StandardScaler()\n",
    "x_train = scaler.fit_transform(x_train)\n",
    "x_test = scaler.fit_transform(x_test)"
   ]
  },
  {
   "cell_type": "code",
   "execution_count": 9,
   "id": "7efb318b",
   "metadata": {
    "ExecuteTime": {
     "end_time": "2022-10-03T07:52:39.968338Z",
     "start_time": "2022-10-03T07:52:39.918338Z"
    }
   },
   "outputs": [
    {
     "data": {
      "text/plain": [
       "array([[ 0.        , -0.33790435, -1.09141592, ...,  1.58325794,\n",
       "         3.53125595,  3.30213343],\n",
       "       [ 0.        ,  2.90642897,  1.41696421, ...,  1.58325794,\n",
       "         0.00595786, -0.18695903],\n",
       "       [ 0.        ,  0.74354009,  0.99890086, ..., -1.14493411,\n",
       "        -0.49765616, -0.18695903],\n",
       "       ...,\n",
       "       [ 0.        , -0.33790435, -0.04625753, ..., -1.14493411,\n",
       "        -0.49765616, -0.18695903],\n",
       "       [ 0.        , -0.33790435, -0.25528921, ..., -1.14493411,\n",
       "        -0.49765616, -0.18695903],\n",
       "       [ 0.        , -0.33790435,  0.16277415, ...,  0.73069792,\n",
       "        -0.49765616, -0.18695903]])"
      ]
     },
     "execution_count": 9,
     "metadata": {},
     "output_type": "execute_result"
    }
   ],
   "source": [
    "x_train"
   ]
  },
  {
   "cell_type": "code",
   "execution_count": 10,
   "id": "3b5f698c",
   "metadata": {
    "ExecuteTime": {
     "end_time": "2022-10-03T07:52:40.358339Z",
     "start_time": "2022-10-03T07:52:39.968338Z"
    }
   },
   "outputs": [
    {
     "data": {
      "text/html": [
       "<style>#sk-container-id-1 {color: black;background-color: white;}#sk-container-id-1 pre{padding: 0;}#sk-container-id-1 div.sk-toggleable {background-color: white;}#sk-container-id-1 label.sk-toggleable__label {cursor: pointer;display: block;width: 100%;margin-bottom: 0;padding: 0.3em;box-sizing: border-box;text-align: center;}#sk-container-id-1 label.sk-toggleable__label-arrow:before {content: \"▸\";float: left;margin-right: 0.25em;color: #696969;}#sk-container-id-1 label.sk-toggleable__label-arrow:hover:before {color: black;}#sk-container-id-1 div.sk-estimator:hover label.sk-toggleable__label-arrow:before {color: black;}#sk-container-id-1 div.sk-toggleable__content {max-height: 0;max-width: 0;overflow: hidden;text-align: left;background-color: #f0f8ff;}#sk-container-id-1 div.sk-toggleable__content pre {margin: 0.2em;color: black;border-radius: 0.25em;background-color: #f0f8ff;}#sk-container-id-1 input.sk-toggleable__control:checked~div.sk-toggleable__content {max-height: 200px;max-width: 100%;overflow: auto;}#sk-container-id-1 input.sk-toggleable__control:checked~label.sk-toggleable__label-arrow:before {content: \"▾\";}#sk-container-id-1 div.sk-estimator input.sk-toggleable__control:checked~label.sk-toggleable__label {background-color: #d4ebff;}#sk-container-id-1 div.sk-label input.sk-toggleable__control:checked~label.sk-toggleable__label {background-color: #d4ebff;}#sk-container-id-1 input.sk-hidden--visually {border: 0;clip: rect(1px 1px 1px 1px);clip: rect(1px, 1px, 1px, 1px);height: 1px;margin: -1px;overflow: hidden;padding: 0;position: absolute;width: 1px;}#sk-container-id-1 div.sk-estimator {font-family: monospace;background-color: #f0f8ff;border: 1px dotted black;border-radius: 0.25em;box-sizing: border-box;margin-bottom: 0.5em;}#sk-container-id-1 div.sk-estimator:hover {background-color: #d4ebff;}#sk-container-id-1 div.sk-parallel-item::after {content: \"\";width: 100%;border-bottom: 1px solid gray;flex-grow: 1;}#sk-container-id-1 div.sk-label:hover label.sk-toggleable__label {background-color: #d4ebff;}#sk-container-id-1 div.sk-serial::before {content: \"\";position: absolute;border-left: 1px solid gray;box-sizing: border-box;top: 0;bottom: 0;left: 50%;z-index: 0;}#sk-container-id-1 div.sk-serial {display: flex;flex-direction: column;align-items: center;background-color: white;padding-right: 0.2em;padding-left: 0.2em;position: relative;}#sk-container-id-1 div.sk-item {position: relative;z-index: 1;}#sk-container-id-1 div.sk-parallel {display: flex;align-items: stretch;justify-content: center;background-color: white;position: relative;}#sk-container-id-1 div.sk-item::before, #sk-container-id-1 div.sk-parallel-item::before {content: \"\";position: absolute;border-left: 1px solid gray;box-sizing: border-box;top: 0;bottom: 0;left: 50%;z-index: -1;}#sk-container-id-1 div.sk-parallel-item {display: flex;flex-direction: column;z-index: 1;position: relative;background-color: white;}#sk-container-id-1 div.sk-parallel-item:first-child::after {align-self: flex-end;width: 50%;}#sk-container-id-1 div.sk-parallel-item:last-child::after {align-self: flex-start;width: 50%;}#sk-container-id-1 div.sk-parallel-item:only-child::after {width: 0;}#sk-container-id-1 div.sk-dashed-wrapped {border: 1px dashed gray;margin: 0 0.4em 0.5em 0.4em;box-sizing: border-box;padding-bottom: 0.4em;background-color: white;}#sk-container-id-1 div.sk-label label {font-family: monospace;font-weight: bold;display: inline-block;line-height: 1.2em;}#sk-container-id-1 div.sk-label-container {text-align: center;}#sk-container-id-1 div.sk-container {/* jupyter's `normalize.less` sets `[hidden] { display: none; }` but bootstrap.min.css set `[hidden] { display: none !important; }` so we also need the `!important` here to be able to override the default hidden behavior on the sphinx rendered scikit-learn.org. See: https://github.com/scikit-learn/scikit-learn/issues/21755 */display: inline-block !important;position: relative;}#sk-container-id-1 div.sk-text-repr-fallback {display: none;}</style><div id=\"sk-container-id-1\" class=\"sk-top-container\"><div class=\"sk-text-repr-fallback\"><pre>LogisticRegression(C=0.05, multi_class=&#x27;ovr&#x27;, random_state=0,\n",
       "                   solver=&#x27;liblinear&#x27;)</pre><b>In a Jupyter environment, please rerun this cell to show the HTML representation or trust the notebook. <br />On GitHub, the HTML representation is unable to render, please try loading this page with nbviewer.org.</b></div><div class=\"sk-container\" hidden><div class=\"sk-item\"><div class=\"sk-estimator sk-toggleable\"><input class=\"sk-toggleable__control sk-hidden--visually\" id=\"sk-estimator-id-1\" type=\"checkbox\" checked><label for=\"sk-estimator-id-1\" class=\"sk-toggleable__label sk-toggleable__label-arrow\">LogisticRegression</label><div class=\"sk-toggleable__content\"><pre>LogisticRegression(C=0.05, multi_class=&#x27;ovr&#x27;, random_state=0,\n",
       "                   solver=&#x27;liblinear&#x27;)</pre></div></div></div></div></div>"
      ],
      "text/plain": [
       "LogisticRegression(C=0.05, multi_class='ovr', random_state=0,\n",
       "                   solver='liblinear')"
      ]
     },
     "execution_count": 10,
     "metadata": {},
     "output_type": "execute_result"
    }
   ],
   "source": [
    "model = LogisticRegression(solver = 'liblinear', C = 0.05, multi_class = 'ovr', random_state = 0)\n",
    "model.fit(x_train, y_train)"
   ]
  },
  {
   "cell_type": "code",
   "execution_count": 11,
   "id": "da31327b",
   "metadata": {
    "ExecuteTime": {
     "end_time": "2022-10-03T07:52:40.368339Z",
     "start_time": "2022-10-03T07:52:40.358339Z"
    }
   },
   "outputs": [
    {
     "data": {
      "text/plain": [
       "array([[ 0.        , -0.32407053,  1.26608154, ...,  1.00149203,\n",
       "         3.00690579,  3.20574326],\n",
       "       [ 0.        ,  0.87866546,  2.13013719, ..., -0.98859333,\n",
       "        -0.53932217, -0.23025994],\n",
       "       [ 0.        ,  2.08140146,  1.69810936, ...,  1.49901337,\n",
       "         3.00690579,  1.05824126],\n",
       "       ...,\n",
       "       [ 0.        ,  0.87866546,  0.83405371, ..., -0.49107199,\n",
       "        -0.53932217, -0.23025994],\n",
       "       [ 0.        , -0.32407053, -1.11007149, ...,  1.33317292,\n",
       "        -0.09604367, -0.23025994],\n",
       "       [ 0.        , -0.32407053, -1.11007149, ...,  0.83565158,\n",
       "        -0.53932217, -0.23025994]])"
      ]
     },
     "execution_count": 11,
     "metadata": {},
     "output_type": "execute_result"
    }
   ],
   "source": [
    "x_test"
   ]
  },
  {
   "cell_type": "code",
   "execution_count": 12,
   "id": "374ecce9",
   "metadata": {
    "ExecuteTime": {
     "end_time": "2022-10-03T07:52:40.628339Z",
     "start_time": "2022-10-03T07:52:40.368339Z"
    }
   },
   "outputs": [
    {
     "data": {
      "text/plain": [
       "array([2, 8, 2, 6, 6, 7, 1, 9, 8, 5, 2, 8, 6, 6, 6, 6, 1, 0, 5, 8, 8, 7,\n",
       "       8, 4, 7, 5, 4, 9, 2, 9, 4, 7, 6, 8, 9, 4, 3, 1, 0, 1, 8, 6, 7, 7,\n",
       "       9, 0, 7, 6, 2, 1, 9, 6, 7, 9, 0, 0, 5, 1, 6, 3, 0, 2, 3, 4, 1, 9,\n",
       "       2, 6, 9, 1, 8, 3, 5, 1, 2, 1, 2, 2, 9, 7, 2, 3, 6, 0, 5, 3, 7, 5,\n",
       "       1, 2, 9, 9, 3, 1, 7, 7, 4, 8, 5, 8, 5, 5, 2, 5, 9, 0, 7, 1, 4, 7,\n",
       "       3, 4, 8, 9, 7, 7, 8, 0, 1, 5, 2, 5, 3, 4, 1, 7, 0, 6, 1, 5, 9, 9,\n",
       "       9, 5, 9, 9, 5, 7, 5, 6, 2, 8, 6, 7, 6, 1, 5, 1, 5, 9, 9, 1, 5, 3,\n",
       "       6, 1, 8, 9, 8, 7, 6, 7, 6, 5, 6, 0, 8, 8, 9, 3, 6, 1, 0, 4, 1, 6,\n",
       "       3, 8, 6, 7, 4, 9, 6, 3, 0, 3, 3, 3, 0, 7, 7, 5, 7, 8, 0, 7, 8, 9,\n",
       "       6, 4, 5, 0, 1, 4, 6, 4, 3, 3, 0, 9, 5, 9, 2, 1, 4, 2, 1, 6, 8, 9,\n",
       "       2, 4, 9, 3, 7, 6, 2, 3, 3, 1, 6, 9, 3, 6, 3, 0, 2, 0, 7, 6, 1, 1,\n",
       "       3, 7, 2, 7, 8, 5, 5, 7, 5, 2, 2, 7, 2, 7, 5, 5, 7, 0, 9, 1, 6, 5,\n",
       "       9, 7, 4, 3, 8, 0, 3, 6, 4, 6, 3, 2, 6, 8, 8, 8, 4, 6, 7, 5, 2, 4,\n",
       "       5, 3, 2, 4, 6, 9, 4, 5, 4, 3, 4, 6, 2, 9, 0, 1, 7, 2, 0, 9, 6, 0,\n",
       "       4, 2, 0, 7, 5, 8, 5, 7, 8, 2, 8, 4, 3, 7, 2, 6, 8, 1, 5, 1, 0, 8,\n",
       "       2, 8, 9, 5, 6, 2, 2, 7, 2, 1, 5, 1, 6, 4, 5, 0, 9, 4, 1, 1, 7, 0,\n",
       "       8, 9, 0, 5, 4, 3, 8, 8])"
      ]
     },
     "execution_count": 12,
     "metadata": {},
     "output_type": "execute_result"
    }
   ],
   "source": [
    "y_pred = model.predict(x_test)\n",
    "y_pred"
   ]
  },
  {
   "cell_type": "code",
   "execution_count": 13,
   "id": "8d4eae49",
   "metadata": {
    "ExecuteTime": {
     "end_time": "2022-10-03T07:52:40.860341Z",
     "start_time": "2022-10-03T07:52:40.628339Z"
    }
   },
   "outputs": [],
   "source": [
    "y_pred_prob = model.predict_proba(x_test)"
   ]
  },
  {
   "cell_type": "code",
   "execution_count": 14,
   "id": "5b34100a",
   "metadata": {
    "ExecuteTime": {
     "end_time": "2022-10-03T07:52:40.880341Z",
     "start_time": "2022-10-03T07:52:40.860341Z"
    }
   },
   "outputs": [
    {
     "data": {
      "text/plain": [
       "0.964509394572025"
      ]
     },
     "execution_count": 14,
     "metadata": {},
     "output_type": "execute_result"
    }
   ],
   "source": [
    "model.score(x_train, y_train)"
   ]
  },
  {
   "cell_type": "code",
   "execution_count": 15,
   "id": "690a869b",
   "metadata": {
    "ExecuteTime": {
     "end_time": "2022-10-03T07:52:40.941341Z",
     "start_time": "2022-10-03T07:52:40.882341Z"
    }
   },
   "outputs": [
    {
     "data": {
      "text/plain": [
       "0.95"
      ]
     },
     "execution_count": 15,
     "metadata": {},
     "output_type": "execute_result"
    }
   ],
   "source": [
    "model.score(x_test, y_test)"
   ]
  },
  {
   "cell_type": "code",
   "execution_count": 16,
   "id": "3c7ae707",
   "metadata": {
    "ExecuteTime": {
     "end_time": "2022-10-03T07:52:41.011341Z",
     "start_time": "2022-10-03T07:52:40.941341Z"
    }
   },
   "outputs": [],
   "source": [
    "cm = confusion_matrix(y_test, y_pred)"
   ]
  },
  {
   "cell_type": "code",
   "execution_count": 17,
   "id": "cd78ad2e",
   "metadata": {
    "ExecuteTime": {
     "end_time": "2022-10-03T07:52:41.081341Z",
     "start_time": "2022-10-03T07:52:41.011341Z"
    }
   },
   "outputs": [],
   "source": [
    "disp = ConfusionMatrixDisplay(confusion_matrix = cm)"
   ]
  },
  {
   "cell_type": "code",
   "execution_count": 18,
   "id": "e6b58a98",
   "metadata": {
    "ExecuteTime": {
     "end_time": "2022-10-03T07:52:44.771347Z",
     "start_time": "2022-10-03T07:52:41.081341Z"
    }
   },
   "outputs": [
    {
     "data": {
      "text/plain": [
       "<sklearn.metrics._plot.confusion_matrix.ConfusionMatrixDisplay at 0xbb01af0>"
      ]
     },
     "execution_count": 18,
     "metadata": {},
     "output_type": "execute_result"
    },
    {
     "data": {
      "image/png": "[encoded data removed]",
      "text/plain": [
       "<Figure size 432x288 with 2 Axes>"
      ]
     },
     "metadata": {
      "needs_background": "light"
     },
     "output_type": "display_data"
    }
   ],
   "source": [
    "disp.plot()"
   ]
  },
  {
   "cell_type": "code",
   "execution_count": 19,
   "id": "2836ebd5",
   "metadata": {
    "ExecuteTime": {
     "end_time": "2022-10-03T07:52:44.801347Z",
     "start_time": "2022-10-03T07:52:44.771347Z"
    }
   },
   "outputs": [
    {
     "name": "stdout",
     "output_type": "stream",
     "text": [
      "              precision    recall  f1-score   support\n",
      "\n",
      "           0       0.93      1.00      0.96        27\n",
      "           1       0.92      0.94      0.93        35\n",
      "           2       0.94      0.94      0.94        36\n",
      "           3       0.90      0.97      0.93        29\n",
      "           4       1.00      0.97      0.98        30\n",
      "           5       0.97      0.97      0.97        40\n",
      "           6       1.00      0.98      0.99        44\n",
      "           7       0.93      1.00      0.96        39\n",
      "           8       0.94      0.87      0.91        39\n",
      "           9       0.95      0.88      0.91        41\n",
      "\n",
      "    accuracy                           0.95       360\n",
      "   macro avg       0.95      0.95      0.95       360\n",
      "weighted avg       0.95      0.95      0.95       360\n",
      "\n"
     ]
    }
   ],
   "source": [
    "print(classification_report(y_test, y_pred))\n",
    "# f1 - средняя гармоническая между precision и recall"
   ]
  },
  {
   "cell_type": "code",
   "execution_count": 20,
   "id": "4dacee13",
   "metadata": {
    "ExecuteTime": {
     "end_time": "2022-10-03T07:52:44.831347Z",
     "start_time": "2022-10-03T07:52:44.801347Z"
    }
   },
   "outputs": [
    {
     "data": {
      "text/plain": [
       "array([[0, 0, 1, ..., 0, 0, 0],\n",
       "       [0, 0, 0, ..., 0, 1, 0],\n",
       "       [0, 0, 1, ..., 0, 0, 0],\n",
       "       ...,\n",
       "       [0, 0, 0, ..., 0, 0, 0],\n",
       "       [0, 0, 0, ..., 0, 1, 0],\n",
       "       [0, 0, 0, ..., 0, 1, 0]])"
      ]
     },
     "execution_count": 20,
     "metadata": {},
     "output_type": "execute_result"
    }
   ],
   "source": [
    "# ROC-кривая\n",
    "y_test = label_binarize(y_test, classes = [0, 1, 2, 3, 4, 5, 6, 7, 8, 9])\n",
    "y_test"
   ]
  },
  {
   "cell_type": "code",
   "execution_count": 21,
   "id": "b5ab6ecf",
   "metadata": {
    "ExecuteTime": {
     "end_time": "2022-10-03T07:52:44.871347Z",
     "start_time": "2022-10-03T07:52:44.831347Z"
    }
   },
   "outputs": [
    {
     "data": {
      "text/plain": [
       "array([[0.06007427, 0.02681728, 0.701936  , ..., 0.09535805, 0.02363706,\n",
       "        0.01721318],\n",
       "       [0.00920567, 0.01803594, 0.1540256 , ..., 0.00413687, 0.47578598,\n",
       "        0.08232454],\n",
       "       [0.00776743, 0.03538639, 0.7852114 , ..., 0.03114683, 0.01900398,\n",
       "        0.02067183],\n",
       "       ...,\n",
       "       [0.03091399, 0.11946221, 0.04404864, ..., 0.07629102, 0.23622964,\n",
       "        0.04516919],\n",
       "       [0.01834137, 0.12084205, 0.05787707, ..., 0.10055323, 0.29492434,\n",
       "        0.01948664],\n",
       "       [0.02165862, 0.08069844, 0.01233718, ..., 0.02301937, 0.37363851,\n",
       "        0.17669524]])"
      ]
     },
     "execution_count": 21,
     "metadata": {},
     "output_type": "execute_result"
    }
   ],
   "source": [
    "y_pred_prob"
   ]
  },
  {
   "cell_type": "code",
   "execution_count": 22,
   "id": "9efaed3b",
   "metadata": {
    "ExecuteTime": {
     "end_time": "2022-10-03T07:52:44.921347Z",
     "start_time": "2022-10-03T07:52:44.871347Z"
    }
   },
   "outputs": [],
   "source": [
    "from sklearn.metrics import roc_auc_score"
   ]
  },
  {
   "cell_type": "code",
   "execution_count": 23,
   "id": "6d4d3dbc",
   "metadata": {
    "ExecuteTime": {
     "end_time": "2022-10-03T07:52:44.971347Z",
     "start_time": "2022-10-03T07:52:44.921347Z"
    }
   },
   "outputs": [],
   "source": [
    "# Compute ROC curve and ROC area for each class\n",
    "from sklearn.metrics import roc_auc_score\n",
    "from sklearn.metrics import roc_curve, auc\n",
    "fpr = dict()\n",
    "tpr = dict()\n",
    "roc_auc = dict()\n",
    "n_class = y_test.shape[1]"
   ]
  },
  {
   "cell_type": "code",
   "execution_count": 24,
   "id": "aca76268",
   "metadata": {
    "ExecuteTime": {
     "end_time": "2022-10-03T07:52:45.011347Z",
     "start_time": "2022-10-03T07:52:44.971347Z"
    }
   },
   "outputs": [
    {
     "data": {
      "text/plain": [
       "10"
      ]
     },
     "execution_count": 24,
     "metadata": {},
     "output_type": "execute_result"
    }
   ],
   "source": [
    "n_class"
   ]
  },
  {
   "cell_type": "code",
   "execution_count": 25,
   "id": "8ddf36b8",
   "metadata": {
    "ExecuteTime": {
     "end_time": "2022-10-03T07:52:45.081347Z",
     "start_time": "2022-10-03T07:52:45.011347Z"
    }
   },
   "outputs": [],
   "source": [
    "for i in range(n_class):\n",
    "    fpr[i], tpr[i], _ = roc_curve(y_test[:, i], y_pred_prob[:, i])\n",
    "    roc_auc[i] = auc(fpr[i], tpr[i])"
   ]
  },
  {
   "cell_type": "code",
   "execution_count": 26,
   "id": "ac373e8a",
   "metadata": {
    "ExecuteTime": {
     "end_time": "2022-10-03T07:52:45.111347Z",
     "start_time": "2022-10-03T07:52:45.081347Z"
    }
   },
   "outputs": [],
   "source": [
    "# Compute micro_average ROC curve and ROC area\n",
    "fpr['micro'], tpr['micro'], _ = roc_curve(y_test.ravel(), y_pred_prob.ravel())\n",
    "roc_auc['micro'] = auc(fpr['micro'], tpr['micro'])"
   ]
  },
  {
   "cell_type": "code",
   "execution_count": 27,
   "id": "d6b7b15e",
   "metadata": {
    "ExecuteTime": {
     "end_time": "2022-10-03T07:52:45.541348Z",
     "start_time": "2022-10-03T07:52:45.111347Z"
    }
   },
   "outputs": [
    {
     "data": {
      "image/png": "[encoded data removed]",
      "text/plain": [
       "<Figure size 720x360 with 1 Axes>"
      ]
     },
     "metadata": {
      "needs_background": "light"
     },
     "output_type": "display_data"
    }
   ],
   "source": [
    "plt.figure(figsize = (10, 5))\n",
    "lw = 2\n",
    "plt.plot(fpr[8], tpr[8], color = 'darkorange',\n",
    "        lw = lw, label = 'ROC curve(area = %0.2f)' % roc_auc[8])\n",
    "plt.plot([0, 1], [0, 1], color = 'navy', lw = lw, linestyle = '--')\n",
    "plt.xlim([-0.05, 1])\n",
    "plt.ylim([0.0, 1.05])\n",
    "plt.xlabel('False Positive Rate')\n",
    "plt.ylabel('True Positive Rate')\n",
    "plt.title('Receiver operating characteristic example')\n",
    "plt.legend(loc = 'lower right')\n",
    "plt.show()"
   ]
  },
  {
   "cell_type": "code",
   "execution_count": 28,
   "id": "e1c47edb",
   "metadata": {
    "ExecuteTime": {
     "end_time": "2022-10-03T07:52:45.921348Z",
     "start_time": "2022-10-03T07:52:45.541348Z"
    }
   },
   "outputs": [
    {
     "data": {
      "image/png": "[encoded data removed]",
      "text/plain": [
       "<Figure size 720x360 with 1 Axes>"
      ]
     },
     "metadata": {
      "needs_background": "light"
     },
     "output_type": "display_data"
    }
   ],
   "source": [
    "plt.figure(figsize = (10, 5))\n",
    "lw = 2\n",
    "plt.plot(fpr[9], tpr[9], color = 'darkorange',\n",
    "        lw = lw, label = 'ROC curve(area = %0.2f)' % roc_auc[9])\n",
    "plt.plot([0, 1], [0, 1], color = 'navy', lw = lw, linestyle = '--')\n",
    "plt.xlim([-0.05, 1])\n",
    "plt.ylim([0.0, 1.05])\n",
    "plt.xlabel('False Positive Rate')\n",
    "plt.ylabel('True Positive Rate')\n",
    "plt.title('Receiver operating characteristic example')\n",
    "plt.legend(loc = 'lower right')\n",
    "plt.show()"
   ]
  },
  {
   "cell_type": "code",
   "execution_count": 29,
   "id": "31a2476e",
   "metadata": {
    "ExecuteTime": {
     "end_time": "2022-10-03T07:52:45.931348Z",
     "start_time": "2022-10-03T07:52:45.921348Z"
    }
   },
   "outputs": [
    {
     "data": {
      "text/plain": [
       "{0: 1.0,\n",
       " 1: 0.9876923076923078,\n",
       " 2: 0.9996570644718793,\n",
       " 3: 0.9989582248150849,\n",
       " 4: 0.9979797979797981,\n",
       " 5: 0.994921875,\n",
       " 6: 0.9996403912543153,\n",
       " 7: 0.9990414569853823,\n",
       " 8: 0.9922517772985062,\n",
       " 9: 0.9925070724061473,\n",
       " 'micro': 0.9964591906721536}"
      ]
     },
     "execution_count": 29,
     "metadata": {},
     "output_type": "execute_result"
    }
   ],
   "source": [
    "roc_auc"
   ]
  },
  {
   "cell_type": "code",
   "execution_count": 36,
   "id": "b63726e8",
   "metadata": {
    "ExecuteTime": {
     "end_time": "2022-10-03T08:09:21.072015Z",
     "start_time": "2022-10-03T08:09:20.079013Z"
    }
   },
   "outputs": [
    {
     "name": "stderr",
     "output_type": "stream",
     "text": [
      "<ipython-input-36-f4966e05570a>:9: DeprecationWarning: scipy.interp is deprecated and will be removed in SciPy 2.0.0, use numpy.interp instead\n",
      "  mean_tpr += interp(all_fpr, fpr[i], tpr[i])\n"
     ]
    },
    {
     "data": {
      "image/png": "[encoded data removed]",
      "text/plain": [
       "<Figure size 1080x720 with 1 Axes>"
      ]
     },
     "metadata": {
      "needs_background": "light"
     },
     "output_type": "display_data"
    }
   ],
   "source": [
    "# First aggregate all false positive rates\n",
    "from scipy import interp\n",
    "from itertools import cycle\n",
    "all_fpr = np.unique(np.concatenate([fpr[i] for i in range(n_class)]))\n",
    "\n",
    "# Then interpolate all ROC curves at this points\n",
    "mean_tpr = np.zeros_like(all_fpr)\n",
    "for i in range(n_class):\n",
    "    mean_tpr += interp(all_fpr, fpr[i], tpr[i])\n",
    "    \n",
    "# Finally average it and compute AUC\n",
    "mean_tpr /= n_class\n",
    "\n",
    "fpr['macro'] = all_fpr\n",
    "tpr['macro'] = mean_tpr\n",
    "roc_auc['macro'] = auc(fpr['macro'], tpr['macro'])\n",
    "\n",
    "# Plot all ROC curves\n",
    "plt.figure(figsize = (15, 10))\n",
    "plt.plot(fpr['micro'], tpr['micro'], \n",
    "         label = 'micro-average ROC curve (area = {0:0.2f})'.format(roc_auc['micro']),\n",
    "         color = 'deeppink',linestyle = ':', linewidth = 4)\n",
    "plt.plot(fpr['macro'], tpr['macro'], \n",
    "         label = 'macro-average ROC curve (area = {0:0.2f})'.format(roc_auc['macro']),\n",
    "         color = 'navy', linestyle = ':', linewidth = 4)\n",
    "colors = cycle(['aqua', 'darkorange', 'cornflowerblue'])\n",
    "\n",
    "# после i был пропущен итератор color\n",
    "for i, color in zip(range(n_class), colors):\n",
    "    plt.plot(fpr[i], tpr[i], color = color, lw = lw,\n",
    "            label = 'ROC curve of class {0} (area = {1:0.2f})'.format(i, roc_auc[i]))\n",
    "plt.plot([0, 1], [0, 1], 'k--', lw = lw)\n",
    "plt.xlim([-0.05, 1])\n",
    "plt.ylim([0.0, 1.05])\n",
    "plt.xlabel('False Positive Rate')\n",
    "plt.ylabel('True Positive Rate')\n",
    "plt.title('Some extension of Receiver operating characteristic to multi-class')\n",
    "plt.legend(loc = 'lower right')\n",
    "plt.show()"
   ]
  },
  {
   "cell_type": "code",
   "execution_count": null,
   "id": "3834e7a3",
   "metadata": {},
   "outputs": [],
   "source": []
  },
  {
   "cell_type": "code",
   "execution_count": null,
   "id": "eed80712",
   "metadata": {},
   "outputs": [],
   "source": []
  },
  {
   "cell_type": "code",
   "execution_count": null,
   "id": "4037b7bb",
   "metadata": {},
   "outputs": [],
   "source": []
  },
  {
   "cell_type": "code",
   "execution_count": null,
   "id": "1f80ab39",
   "metadata": {},
   "outputs": [],
   "source": []
  },
  {
   "cell_type": "code",
   "execution_count": null,
   "id": "3a1d9737",
   "metadata": {},
   "outputs": [],
   "source": []
  }
 ],
 "metadata": {
  "kernelspec": {
   "display_name": "Python 3 (ipykernel)",
   "language": "python",
   "name": "python3"
  },
  "language_info": {
   "codemirror_mode": {
    "name": "ipython",
    "version": 3
   },
   "file_extension": ".py",
   "mimetype": "text/x-python",
   "name": "python",
   "nbconvert_exporter": "python",
   "pygments_lexer": "ipython3",
   "version": "3.9.13"
  },
  "toc": {
   "base_numbering": 1,
   "nav_menu": {},
   "number_sections": true,
   "sideBar": true,
   "skip_h1_title": false,
   "title_cell": "Table of Contents",
   "title_sidebar": "Contents",
   "toc_cell": false,
   "toc_position": {},
   "toc_section_display": true,
   "toc_window_display": false
  }
 },
 "nbformat": 4,
 "nbformat_minor": 5
}
